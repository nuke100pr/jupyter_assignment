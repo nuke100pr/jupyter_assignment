{
 "cells": [
  {
   "cell_type": "code",
   "execution_count": null,
   "metadata": {},
   "outputs": [],
   "source": []
  },
  {
   "cell_type": "markdown",
   "metadata": {},
   "source": [
    "<h1>Data Science Tools and Ecosystems</h1>\n",
    "\n"
   ]
  },
  {
   "cell_type": "markdown",
   "metadata": {},
   "source": [
    "In this notebook data science tools and ecosystems are summarised."
   ]
  },
  {
   "cell_type": "markdown",
   "metadata": {},
   "source": [
    "Some of the popular languages that data scientists used are:\n",
    "<ol>\n",
    "<li>Python  </li>\n",
    "<li>R  </li>\n",
    "<li>SQL  </li>\n",
    "</ol>"
   ]
  },
  {
   "cell_type": "markdown",
   "metadata": {},
   "source": [
    "Some of the commonly used libraries in Data Science are:\n",
    "<ol>\n",
    "<li> Pandas </li>\n",
    "<li> Scikit Learn </li>\n",
    "<li> caret </li>\n",
    "<li> MatPlotLib </li>\n",
    "<li> Numpy </li>\n",
    "<li> ggplot </li>\n",
    "</ol>\n"
   ]
  },
  {
   "cell_type": "markdown",
   "metadata": {},
   "source": [
    "<table>\n",
    "          <th>Data Science Tools </th>\n",
    "          <tr>\n",
    "          <td> Jupyter </td>\n",
    "          </tr>\n",
    "          <tr>\n",
    "          <td> IBM Watson Studio </td>\n",
    "          </tr>\n",
    "          <tr>\n",
    "          <td> Google Collab </td>\n",
    "          </tr>\n",
    "          <tr>\n",
    "          <td> Anaconda Navigator </td>\n",
    "          </tr>\n",
    "</table>"
   ]
  },
  {
   "cell_type": "markdown",
   "metadata": {},
   "source": [
    "<h3>Below are the few examples of evaluating arithmetic instructions in python  </h3>"
   ]
  },
  {
   "cell_type": "code",
   "execution_count": 1,
   "metadata": {},
   "outputs": [
    {
     "data": {
      "text/plain": [
       "17"
      ]
     },
     "execution_count": 1,
     "metadata": {},
     "output_type": "execute_result"
    }
   ],
   "source": [
    "(3*4)+5\n",
    "#This is a simple arithmetic operation in python"
   ]
  },
  {
   "cell_type": "code",
   "execution_count": 2,
   "metadata": {},
   "outputs": [
    {
     "name": "stdout",
     "output_type": "stream",
     "text": [
      "3.3333333333333335\n"
     ]
    }
   ],
   "source": [
    "minutes = 200\n",
    "hours = 200/60\n",
    "\n",
    "print(hours)\n"
   ]
  },
  {
   "cell_type": "markdown",
   "metadata": {},
   "source": [
    "Objectives covered in this notebook :\n",
    "<ul>\n",
    "   <li>Popular Languages that data scientists use.  </li>\n",
    "   <li>Common Libraries that data scientists use.  </li>\n",
    "   <li>Arithmetic operations in python. </li>\n",
    "   <li>Code for converting minutes into hours.</li>\n",
    "</ul>"
   ]
  },
  {
   "cell_type": "markdown",
   "metadata": {},
   "source": [
    "<h2>Author : Prakhar Maurya  </h2>"
   ]
  }
 ],
 "metadata": {
  "kernelspec": {
   "display_name": "Python 3",
   "language": "python",
   "name": "python3"
  },
  "language_info": {
   "codemirror_mode": {
    "name": "ipython",
    "version": 3
   },
   "file_extension": ".py",
   "mimetype": "text/x-python",
   "name": "python",
   "nbconvert_exporter": "python",
   "pygments_lexer": "ipython3",
   "version": "3.12.2"
  }
 },
 "nbformat": 4,
 "nbformat_minor": 2
}
